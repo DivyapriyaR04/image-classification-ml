{
 "cells": [
  {
   "cell_type": "code",
   "execution_count": 2,
   "id": "df7898c0",
   "metadata": {},
   "outputs": [
    {
     "name": "stdout",
     "output_type": "stream",
     "text": [
      "WARNING:tensorflow:From C:\\Users\\divya\\anaconda3\\Lib\\site-packages\\keras\\src\\losses.py:2976: The name tf.losses.sparse_softmax_cross_entropy is deprecated. Please use tf.compat.v1.losses.sparse_softmax_cross_entropy instead.\n",
      "\n"
     ]
    }
   ],
   "source": [
    "import tensorflow as tf\n",
    "from tensorflow.keras import datasets, layers, models\n",
    "import matplotlib.pyplot as plt\n",
    "import numpy as np"
   ]
  },
  {
   "cell_type": "code",
   "execution_count": 3,
   "id": "1949853b",
   "metadata": {},
   "outputs": [
    {
     "data": {
      "text/plain": [
       "(50000, 32, 32, 3)"
      ]
     },
     "execution_count": 3,
     "metadata": {},
     "output_type": "execute_result"
    }
   ],
   "source": [
    "(X_train, y_train), (X_test,y_test) = datasets.cifar10.load_data()\n",
    "X_train.shape"
   ]
  },
  {
   "cell_type": "code",
   "execution_count": 4,
   "id": "1aacbbd2",
   "metadata": {},
   "outputs": [
    {
     "data": {
      "text/plain": [
       "(10000, 32, 32, 3)"
      ]
     },
     "execution_count": 4,
     "metadata": {},
     "output_type": "execute_result"
    }
   ],
   "source": [
    "X_test.shape"
   ]
  },
  {
   "cell_type": "code",
   "execution_count": 5,
   "id": "13c36847",
   "metadata": {},
   "outputs": [
    {
     "data": {
      "text/plain": [
       "(50000, 1)"
      ]
     },
     "execution_count": 5,
     "metadata": {},
     "output_type": "execute_result"
    }
   ],
   "source": [
    "y_train.shape"
   ]
  },
  {
   "cell_type": "code",
   "execution_count": 6,
   "id": "d5792c16",
   "metadata": {},
   "outputs": [
    {
     "data": {
      "text/plain": [
       "array([[6],\n",
       "       [9],\n",
       "       [9],\n",
       "       [4],\n",
       "       [1]], dtype=uint8)"
      ]
     },
     "execution_count": 6,
     "metadata": {},
     "output_type": "execute_result"
    }
   ],
   "source": [
    "y_train[:5]"
   ]
  },
  {
   "cell_type": "code",
   "execution_count": 7,
   "id": "52507a7f",
   "metadata": {},
   "outputs": [
    {
     "data": {
      "text/plain": [
       "array([6, 9, 9, 4, 1], dtype=uint8)"
      ]
     },
     "execution_count": 7,
     "metadata": {},
     "output_type": "execute_result"
    }
   ],
   "source": [
    "y_train = y_train.reshape(-1,)\n",
    "y_train[:5]"
   ]
  },
  {
   "cell_type": "code",
   "execution_count": 8,
   "id": "ba36415d",
   "metadata": {},
   "outputs": [],
   "source": [
    "y_test = y_test.reshape(-1,)"
   ]
  },
  {
   "cell_type": "code",
   "execution_count": 9,
   "id": "614f1610",
   "metadata": {},
   "outputs": [],
   "source": [
    "classes = [\"airplane\",\"automobile\",\"bird\",\"cat\",\"deer\",\"dog\",\"frog\",\"horse\",\"ship\",\"truck\"]"
   ]
  },
  {
   "cell_type": "markdown",
   "id": "8ca22556",
   "metadata": {},
   "source": [
    "## Plot images to see "
   ]
  },
  {
   "cell_type": "code",
   "execution_count": 10,
   "id": "2edceee6",
   "metadata": {},
   "outputs": [],
   "source": [
    "def plot_sample(X, y, index):\n",
    "    plt.figure(figsize = (15,2))\n",
    "    plt.imshow(X[index])\n",
    "    plt.xlabel(classes[y[index]])"
   ]
  },
  {
   "cell_type": "code",
   "execution_count": 11,
   "id": "43221e71",
   "metadata": {},
   "outputs": [
    {
     "data": {
      "image/png": "[encoded data removed]",
      "text/plain": [
       "<Figure size 1500x200 with 1 Axes>"
      ]
     },
     "metadata": {},
     "output_type": "display_data"
    }
   ],
   "source": [
    "plot_sample(X_train, y_train, 0)"
   ]
  },
  {
   "cell_type": "code",
   "execution_count": 12,
   "id": "0c9d7056",
   "metadata": {},
   "outputs": [
    {
     "data": {
      "image/png": "[encoded data removed]",
      "text/plain": [
       "<Figure size 1500x200 with 1 Axes>"
      ]
     },
     "metadata": {},
     "output_type": "display_data"
    }
   ],
   "source": [
    "plot_sample(X_train, y_train, 1)"
   ]
  },
  {
   "cell_type": "markdown",
   "id": "ab914578",
   "metadata": {},
   "source": [
    "## Noramlizing the training data"
   ]
  },
  {
   "cell_type": "code",
   "execution_count": 13,
   "id": "59800566",
   "metadata": {},
   "outputs": [],
   "source": [
    "X_train = X_train / 255.0\n",
    "X_test = X_test / 255.0"
   ]
  },
  {
   "cell_type": "markdown",
   "id": "e6ffd852",
   "metadata": {},
   "source": [
    "## Build simple artificial neural network for image classification"
   ]
  },
  {
   "cell_type": "code",
   "execution_count": 14,
   "id": "9253c367",
   "metadata": {},
   "outputs": [
    {
     "name": "stdout",
     "output_type": "stream",
     "text": [
      "WARNING:tensorflow:From C:\\Users\\divya\\anaconda3\\Lib\\site-packages\\keras\\src\\backend.py:873: The name tf.get_default_graph is deprecated. Please use tf.compat.v1.get_default_graph instead.\n",
      "\n",
      "WARNING:tensorflow:From C:\\Users\\divya\\anaconda3\\Lib\\site-packages\\keras\\src\\optimizers\\__init__.py:309: The name tf.train.Optimizer is deprecated. Please use tf.compat.v1.train.Optimizer instead.\n",
      "\n",
      "Epoch 1/5\n",
      "WARNING:tensorflow:From C:\\Users\\divya\\anaconda3\\Lib\\site-packages\\keras\\src\\utils\\tf_utils.py:492: The name tf.ragged.RaggedTensorValue is deprecated. Please use tf.compat.v1.ragged.RaggedTensorValue instead.\n",
      "\n",
      "WARNING:tensorflow:From C:\\Users\\divya\\anaconda3\\Lib\\site-packages\\keras\\src\\engine\\base_layer_utils.py:384: The name tf.executing_eagerly_outside_functions is deprecated. Please use tf.compat.v1.executing_eagerly_outside_functions instead.\n",
      "\n",
      "1563/1563 [==============================] - 101s 64ms/step - loss: 1.8059 - accuracy: 0.3572\n",
      "Epoch 2/5\n",
      "1563/1563 [==============================] - 104s 67ms/step - loss: 1.6200 - accuracy: 0.4272\n",
      "Epoch 3/5\n",
      "1563/1563 [==============================] - 100s 64ms/step - loss: 1.5402 - accuracy: 0.4559\n",
      "Epoch 4/5\n",
      "1563/1563 [==============================] - 112s 72ms/step - loss: 1.4802 - accuracy: 0.4793\n",
      "Epoch 5/5\n",
      "1563/1563 [==============================] - 115s 74ms/step - loss: 1.4306 - accuracy: 0.4950\n"
     ]
    },
    {
     "data": {
      "text/plain": [
       "<keras.src.callbacks.History at 0x1f649e42590>"
      ]
     },
     "execution_count": 14,
     "metadata": {},
     "output_type": "execute_result"
    }
   ],
   "source": [
    "ann = models.Sequential([\n",
    "        layers.Flatten(input_shape=(32,32,3)),\n",
    "        layers.Dense(3000, activation='relu'),\n",
    "        layers.Dense(1000, activation='relu'),\n",
    "        layers.Dense(10, activation='softmax')    \n",
    "    ])\n",
    "\n",
    "ann.compile(optimizer='SGD',\n",
    "              loss='sparse_categorical_crossentropy',\n",
    "              metrics=['accuracy'])\n",
    "\n",
    "ann.fit(X_train, y_train, epochs=5)"
   ]
  },
  {
   "cell_type": "code",
   "execution_count": 17,
   "id": "24e630bc",
   "metadata": {},
   "outputs": [
    {
     "name": "stdout",
     "output_type": "stream",
     "text": [
      "313/313 [==============================] - 3s 10ms/step\n",
      "Classification Report: \n",
      "               precision    recall  f1-score   support\n",
      "\n",
      "           0       0.45      0.65      0.54      1000\n",
      "           1       0.75      0.29      0.42      1000\n",
      "           2       0.27      0.57      0.37      1000\n",
      "           3       0.38      0.27      0.31      1000\n",
      "           4       0.49      0.25      0.33      1000\n",
      "           5       0.44      0.33      0.38      1000\n",
      "           6       0.56      0.45      0.50      1000\n",
      "           7       0.56      0.51      0.53      1000\n",
      "           8       0.69      0.52      0.59      1000\n",
      "           9       0.43      0.72      0.54      1000\n",
      "\n",
      "    accuracy                           0.46     10000\n",
      "   macro avg       0.50      0.46      0.45     10000\n",
      "weighted avg       0.50      0.46      0.45     10000\n",
      "\n"
     ]
    }
   ],
   "source": [
    "from sklearn.metrics import confusion_matrix , classification_report\n",
    "import numpy as np\n",
    "y_pred = ann.predict(X_test)\n",
    "y_pred_classes = [np.argmax(element) for element in y_pred]\n",
    "\n",
    "print(\"Classification Report: \\n\", classification_report(y_test, y_pred_classes))"
   ]
  },
  {
   "cell_type": "code",
   "execution_count": 18,
   "id": "65b1ad60",
   "metadata": {},
   "outputs": [],
   "source": [
    "cnn = models.Sequential([\n",
    "    layers.Conv2D(filters=32, kernel_size=(3, 3), activation='relu', input_shape=(32, 32, 3)),\n",
    "    layers.MaxPooling2D((2, 2)),\n",
    "    \n",
    "    layers.Conv2D(filters=64, kernel_size=(3, 3), activation='relu'),\n",
    "    layers.MaxPooling2D((2, 2)),\n",
    "    \n",
    "    layers.Flatten(),\n",
    "    layers.Dense(64, activation='relu'),\n",
    "    layers.Dense(10, activation='softmax') \n",
    "])"
   ]
  },
  {
   "cell_type": "code",
   "execution_count": 19,
   "id": "c47c480b",
   "metadata": {},
   "outputs": [],
   "source": [
    "cnn.compile(optimizer='adam',\n",
    "              loss='sparse_categorical_crossentropy',\n",
    "              metrics=['accuracy'])"
   ]
  },
  {
   "cell_type": "code",
   "execution_count": 20,
   "id": "3c3438e5",
   "metadata": {},
   "outputs": [
    {
     "name": "stdout",
     "output_type": "stream",
     "text": [
      "Epoch 1/10\n",
      "1563/1563 [==============================] - 28s 16ms/step - loss: 1.4577 - accuracy: 0.4750\n",
      "Epoch 2/10\n",
      "1563/1563 [==============================] - 23s 15ms/step - loss: 1.1110 - accuracy: 0.6117\n",
      "Epoch 3/10\n",
      "1563/1563 [==============================] - 28s 18ms/step - loss: 0.9807 - accuracy: 0.6584\n",
      "Epoch 4/10\n",
      "1563/1563 [==============================] - 87s 56ms/step - loss: 0.8959 - accuracy: 0.6894\n",
      "Epoch 5/10\n",
      "1563/1563 [==============================] - 73s 46ms/step - loss: 0.8278 - accuracy: 0.7128\n",
      "Epoch 6/10\n",
      "1563/1563 [==============================] - 55s 35ms/step - loss: 0.7740 - accuracy: 0.7306\n",
      "Epoch 7/10\n",
      "1563/1563 [==============================] - 49s 31ms/step - loss: 0.7306 - accuracy: 0.7449\n",
      "Epoch 8/10\n",
      "1563/1563 [==============================] - 49s 31ms/step - loss: 0.6852 - accuracy: 0.7619\n",
      "Epoch 9/10\n",
      "1563/1563 [==============================] - 54s 34ms/step - loss: 0.6446 - accuracy: 0.7749\n",
      "Epoch 10/10\n",
      "1563/1563 [==============================] - 53s 34ms/step - loss: 0.6146 - accuracy: 0.7846\n"
     ]
    },
    {
     "data": {
      "text/plain": [
       "<keras.src.callbacks.History at 0x1f6499383d0>"
      ]
     },
     "execution_count": 20,
     "metadata": {},
     "output_type": "execute_result"
    }
   ],
   "source": [
    "cnn.fit(X_train, y_train, epochs=10)"
   ]
  },
  {
   "cell_type": "code",
   "execution_count": 22,
   "id": "51248a14",
   "metadata": {},
   "outputs": [
    {
     "name": "stdout",
     "output_type": "stream",
     "text": [
      "313/313 [==============================] - 4s 12ms/step - loss: 0.9380 - accuracy: 0.6929\n"
     ]
    },
    {
     "data": {
      "text/plain": [
       "[0.9380268454551697, 0.6929000020027161]"
      ]
     },
     "execution_count": 22,
     "metadata": {},
     "output_type": "execute_result"
    }
   ],
   "source": [
    "cnn.evaluate(X_test,y_test)"
   ]
  },
  {
   "cell_type": "code",
   "execution_count": 23,
   "id": "9ca634e8",
   "metadata": {},
   "outputs": [
    {
     "name": "stdout",
     "output_type": "stream",
     "text": [
      "313/313 [==============================] - 4s 12ms/step\n"
     ]
    },
    {
     "data": {
      "text/plain": [
       "array([[7.3218024e-03, 3.1337854e-03, 1.4411687e-02, 6.7923218e-01,\n",
       "        2.2030312e-03, 2.2978953e-01, 7.6663001e-03, 1.2932823e-03,\n",
       "        5.2365683e-02, 2.5827033e-03],\n",
       "       [2.8241096e-02, 7.7839953e-01, 3.7197584e-05, 9.4104043e-06,\n",
       "        6.7834989e-08, 7.7906513e-08, 1.6884505e-05, 6.5917177e-08,\n",
       "        1.9083153e-01, 2.4641040e-03],\n",
       "       [5.3574499e-02, 3.6741415e-01, 1.0220734e-02, 5.0879084e-02,\n",
       "        2.9583354e-02, 1.2565615e-03, 1.4020978e-03, 4.3090968e-03,\n",
       "        4.5096421e-01, 3.0396199e-02],\n",
       "       [9.7735196e-01, 1.4491202e-03, 2.3977505e-03, 8.8923502e-05,\n",
       "        9.3288254e-04, 1.6134858e-06, 2.1153352e-05, 2.2796260e-06,\n",
       "        1.7741375e-02, 1.3051543e-05],\n",
       "       [1.1735699e-05, 3.5841240e-05, 4.6692390e-02, 2.2886891e-02,\n",
       "        2.5443116e-01, 7.1828032e-04, 6.7517239e-01, 4.0259594e-05,\n",
       "        2.9622818e-06, 8.0896179e-06]], dtype=float32)"
      ]
     },
     "execution_count": 23,
     "metadata": {},
     "output_type": "execute_result"
    }
   ],
   "source": [
    "y_pred = cnn.predict(X_test)\n",
    "y_pred[:5]"
   ]
  },
  {
   "cell_type": "code",
   "execution_count": 24,
   "id": "6474703f",
   "metadata": {},
   "outputs": [
    {
     "data": {
      "text/plain": [
       "[3, 1, 8, 0, 6]"
      ]
     },
     "execution_count": 24,
     "metadata": {},
     "output_type": "execute_result"
    }
   ],
   "source": [
    "y_classes = [np.argmax(element) for element in y_pred]\n",
    "y_classes[:5]"
   ]
  },
  {
   "cell_type": "code",
   "execution_count": 25,
   "id": "5bb5b7f8",
   "metadata": {},
   "outputs": [
    {
     "data": {
      "text/plain": [
       "array([3, 8, 8, 0, 6], dtype=uint8)"
      ]
     },
     "execution_count": 25,
     "metadata": {},
     "output_type": "execute_result"
    }
   ],
   "source": [
    "y_test[:5]"
   ]
  },
  {
   "cell_type": "code",
   "execution_count": 26,
   "id": "ee1f3240",
   "metadata": {},
   "outputs": [
    {
     "data": {
      "image/png": "[encoded data removed]",
      "text/plain": [
       "<Figure size 1500x200 with 1 Axes>"
      ]
     },
     "metadata": {},
     "output_type": "display_data"
    }
   ],
   "source": [
    "plot_sample(X_test, y_test,3)"
   ]
  },
  {
   "cell_type": "code",
   "execution_count": 27,
   "id": "3bfab10f",
   "metadata": {},
   "outputs": [
    {
     "data": {
      "text/plain": [
       "'airplane'"
      ]
     },
     "execution_count": 27,
     "metadata": {},
     "output_type": "execute_result"
    }
   ],
   "source": [
    "classes[y_classes[3]]"
   ]
  },
  {
   "cell_type": "code",
   "execution_count": 27,
   "id": "ed435198",
   "metadata": {},
   "outputs": [
    {
     "data": {
      "image/png": "[encoded data removed]",
      "text/plain": [
       "<Figure size 1500x200 with 1 Axes>"
      ]
     },
     "metadata": {},
     "output_type": "display_data"
    }
   ],
   "source": [
    "plot_sample(X_test, y_test,7)"
   ]
  },
  {
   "cell_type": "code",
   "execution_count": 28,
   "id": "03da06c3",
   "metadata": {},
   "outputs": [
    {
     "data": {
      "text/plain": [
       "'frog'"
      ]
     },
     "execution_count": 28,
     "metadata": {},
     "output_type": "execute_result"
    }
   ],
   "source": [
    "classes[y_classes[7]]"
   ]
  },
  {
   "cell_type": "code",
   "execution_count": 30,
   "id": "fe31d493",
   "metadata": {},
   "outputs": [
    {
     "data": {
      "text/plain": [
       "'truck'"
      ]
     },
     "execution_count": 30,
     "metadata": {},
     "output_type": "execute_result"
    },
    {
     "data": {
      "image/png": "[encoded data removed]",
      "text/plain": [
       "<Figure size 1500x200 with 1 Axes>"
      ]
     },
     "metadata": {},
     "output_type": "display_data"
    }
   ],
   "source": [
    "plot_sample(X_test, y_test,28)\n",
    "classes[y_classes[28]]"
   ]
  },
  {
   "cell_type": "code",
   "execution_count": 31,
   "id": "2d370a4a",
   "metadata": {},
   "outputs": [
    {
     "data": {
      "text/plain": [
       "'truck'"
      ]
     },
     "execution_count": 31,
     "metadata": {},
     "output_type": "execute_result"
    },
    {
     "data": {
      "image/png": "[encoded data removed]",
      "text/plain": [
       "<Figure size 1500x200 with 1 Axes>"
      ]
     },
     "metadata": {},
     "output_type": "display_data"
    }
   ],
   "source": [
    "plot_sample(X_test, y_test,45)\n",
    "classes[y_classes[45]]"
   ]
  },
  {
   "cell_type": "code",
   "execution_count": 32,
   "id": "1c98ff12",
   "metadata": {},
   "outputs": [
    {
     "data": {
      "text/plain": [
       "'ship'"
      ]
     },
     "execution_count": 32,
     "metadata": {},
     "output_type": "execute_result"
    },
    {
     "data": {
      "image/png": "[encoded data removed]",
      "text/plain": [
       "<Figure size 1500x200 with 1 Axes>"
      ]
     },
     "metadata": {},
     "output_type": "display_data"
    }
   ],
   "source": [
    "plot_sample(X_test, y_test,120)\n",
    "classes[y_classes[120]]"
   ]
  },
  {
   "cell_type": "code",
   "execution_count": null,
   "id": "14a5dcd1",
   "metadata": {},
   "outputs": [],
   "source": []
  }
 ],
 "metadata": {
  "kernelspec": {
   "display_name": "Python 3 (ipykernel)",
   "language": "python",
   "name": "python3"
  },
  "language_info": {
   "codemirror_mode": {
    "name": "ipython",
    "version": 3
   },
   "file_extension": ".py",
   "mimetype": "text/x-python",
   "name": "python",
   "nbconvert_exporter": "python",
   "pygments_lexer": "ipython3",
   "version": "3.11.5"
  }
 },
 "nbformat": 4,
 "nbformat_minor": 5
}
